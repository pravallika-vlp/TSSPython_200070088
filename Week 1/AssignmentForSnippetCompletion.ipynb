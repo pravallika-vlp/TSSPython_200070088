{
 "cells": [
  {
   "cell_type": "markdown",
   "id": "mwY8-ebWnn8k",
   "metadata": {
    "id": "mwY8-ebWnn8k"
   },
   "source": [
    "# Assignment: Complete the Snippet\n"
   ]
  },
  {
   "cell_type": "markdown",
   "id": "98h1wLbDnn8n",
   "metadata": {
    "id": "98h1wLbDnn8n"
   },
   "source": [
    "Shubh started building a basic Python Script which goes through the entire text of a particular book and mugs up all its words. After that it asks you for a word, goes over the times when this word came in the text and gives you the complete sentence in which it was used. You may choose to ask for as many such sentences as the number of occurences of the word.\n",
    "\n",
    "He's managed to come up with the part where he loads the file into Memory. He also managed to come up with snippets of code which could potentially do something if completed, but he has many deadlines to look after and not enough caffeine to turn to code. Can you help him?"
   ]
  },
  {
   "cell_type": "code",
   "execution_count": 1,
   "id": "W2FPoG_Lnn8n",
   "metadata": {
    "id": "W2FPoG_Lnn8n"
   },
   "outputs": [],
   "source": [
    "# This helps in opening the file which is to be read\n",
    "File = open(\"HarryPotterAndTheSorcerersStone.txt\",'r',encoding='utf8')"
   ]
  },
  {
   "cell_type": "markdown",
   "id": "6n2G1L6qnn8o",
   "metadata": {
    "id": "6n2G1L6qnn8o"
   },
   "source": [
    "Next he makes a list of all the words present in the novel mapping them to their index(position) in the list of words (i.e. ListOfWords). This is done by mapping every word (a string) to a list (list of indices), and this is stored as a Dictionary (DictionaryoOfWords)\n",
    "\n",
    "\n",
    "\n",
    "He makes use of the readlines() method which is used to extract all the lines from any text and the split() function which could be used to split any sentence into distinct words. The replace() method is used on strings to replace certain segments of the string with something else."
   ]
  },
  {
   "cell_type": "code",
   "execution_count": 2,
   "id": "wuz-iSaonn8o",
   "metadata": {
    "id": "wuz-iSaonn8o"
   },
   "outputs": [],
   "source": [
    "DictionaryOfWords = {}\n",
    "Novel = []\n",
    "\n",
    "i = 0\n",
    "\n",
    "for line in File.readlines():\n",
    "    line = line.replace(\".\",\"\").replace(\",\",\"\").replace('?','').replace('!','').replace('[','').replace(']','').replace('(','').replace(')','').replace('%','').replace('/','')\n",
    "\n",
    "    for word in line.split(' '): \n",
    "    \n",
    "        if word in DictionaryOfWords.keys():\n",
    "            DictionaryOfWords[word].append(i)\n",
    "        else:\n",
    "            DictionaryOfWords[word] = [i]\n",
    "\n",
    "        Novel.append(word)\n",
    "        i += 1"
   ]
  },
  {
   "cell_type": "markdown",
   "id": "7Q0xPLDynn8o",
   "metadata": {
    "id": "7Q0xPLDynn8o"
   },
   "source": [
    "That guy truly left a lot of work for you!\n",
    "\n",
    "Now that you've done that, We have the words in the novel alongwith where they appeared in the text loaded into memory (Thanks to You!).\n",
    "\n",
    "The Next Step would be to answer any queries the user may have.\n",
    "\n",
    "To do this, we define the function GetQuery() which returns the word as well as the number of results the user wants to see (as a tuple):\n",
    "\n"
   ]
  },
  {
   "cell_type": "code",
   "execution_count": 3,
   "id": "rZdPHcyZnn8p",
   "metadata": {
    "id": "rZdPHcyZnn8p"
   },
   "outputs": [],
   "source": [
    "def GetQuery():\n",
    "    # Get Input from the user regarding what word s/he wants to query for\n",
    "    word = input('Enter the word you want to query: ')\n",
    "    # Get Input from the user regarding how many results the user wants to see\n",
    "    Number = input('Enter number of results you want to see: ')\n",
    "    \n",
    "    # Return as output a tuple of the word and the Number of results       \n",
    "    return (word, int(Number))"
   ]
  },
  {
   "cell_type": "markdown",
   "id": "f0ExNn2Hnn8p",
   "metadata": {
    "id": "f0ExNn2Hnn8p"
   },
   "source": [
    "Now, We need a function which takes as input the index of any particular word and prints the words surrounding it as if they were in an actual sentence. \n",
    "\n",
    "This is done by iterating over the words surrounding it, and printing them with gaps in between. We also assume that this occurence isn't a boundary case and thus, the 10 words surronding it actually exist."
   ]
  },
  {
   "cell_type": "code",
   "execution_count": 4,
   "id": "NFjuNsIjnn8q",
   "metadata": {
    "id": "NFjuNsIjnn8q"
   },
   "outputs": [],
   "source": [
    "def PrintContext(index):\n",
    "    # Allows us to use the list Novel as a Global Variable\n",
    "    global Novel\n",
    "    \n",
    "    for i in range(index-5, index+5):\n",
    "        print(Novel[i], end = ' ')\n",
    "    print('\\n')"
   ]
  },
  {
   "cell_type": "markdown",
   "id": "WaT0_Nsxnn8q",
   "metadata": {
    "id": "WaT0_Nsxnn8q"
   },
   "source": [
    "The result of the GetQuery() function will be passed into a second function which would take as input the word and the number of results to be displayed and do so!"
   ]
  },
  {
   "cell_type": "code",
   "execution_count": 5,
   "id": "lJe_w2C0nn8r",
   "metadata": {
    "id": "lJe_w2C0nn8r"
   },
   "outputs": [],
   "source": [
    "def PrintResult(word, NumQuery):\n",
    "    # Allows us to use the Dictionary as a Global variable\n",
    "    global DictionaryOfWords\n",
    "    \n",
    "    L = DictionaryOfWords[word] \n",
    "    \n",
    "    for i in range(0, min(len(L),NumQuery)):\n",
    "        PrintContext(L[i])"
   ]
  },
  {
   "cell_type": "markdown",
   "id": "JRNRUKLTnn8s",
   "metadata": {
    "id": "JRNRUKLTnn8s"
   },
   "source": [
    "Finally, you need an infinite loop which runs until the user wants it to and asks for the next word (if the user wants to query more) or end the loop."
   ]
  },
  {
   "cell_type": "code",
   "execution_count": 6,
   "id": "b5LvL0TQnn8s",
   "metadata": {
    "id": "b5LvL0TQnn8s"
   },
   "outputs": [
    {
     "name": "stdout",
     "output_type": "stream",
     "text": [
      "Press Y in order to Continue with the next query or N to end. Please press Enter after entering your choice!\n",
      "Y\n",
      "Enter the word you want to query: the\n",
      "Enter number of results you want to see: 5\n",
      "Dursleys shuddered to\n",
      " think what the neighbors would say if \n",
      "\n",
      "the neighbors would say if the Potters arrived in the\n",
      " \n",
      "\n",
      "street The Dursleys knew that the Potters had a small \n",
      "\n",
      "another good reason\n",
      " for keeping the Potters away; they didn’t \n",
      "\n",
      "Mrs Dursley woke up on the dull gray Tuesday\n",
      " our \n",
      "\n",
      "Press Y in order to Continue with the next query or N to end. Please press Enter after entering your choice!\n",
      "n\n"
     ]
    }
   ],
   "source": [
    "while True:   \n",
    "    Choice = input('Press Y in order to Continue with the next query or N to end. Please press Enter after entering your choice!\\n')\n",
    "\n",
    "    if Choice == 'Y':\n",
    "        word, Number = GetQuery()\n",
    "        PrintResult(word, Number)\n",
    "    else:\n",
    "        break"
   ]
  },
  {
   "cell_type": "code",
   "execution_count": null,
   "id": "15e1a08a",
   "metadata": {},
   "outputs": [],
   "source": []
  }
 ],
 "metadata": {
  "colab": {
   "name": "Copy of AssignmentForSnippetCompletion.ipynb",
   "provenance": []
  },
  "kernelspec": {
   "display_name": "Python 3",
   "language": "python",
   "name": "python3"
  },
  "language_info": {
   "codemirror_mode": {
    "name": "ipython",
    "version": 3
   },
   "file_extension": ".py",
   "mimetype": "text/x-python",
   "name": "python",
   "nbconvert_exporter": "python",
   "pygments_lexer": "ipython3",
   "version": "3.8.8"
  }
 },
 "nbformat": 4,
 "nbformat_minor": 5
}
